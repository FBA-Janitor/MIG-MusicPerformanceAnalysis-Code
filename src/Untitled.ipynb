{
 "cells": [
  {
   "cell_type": "code",
   "execution_count": 1,
   "id": "7409f172-81c4-4780-aa96-20bc50586d01",
   "metadata": {},
   "outputs": [],
   "source": [
    "import numpy as np"
   ]
  },
  {
   "cell_type": "code",
   "execution_count": 7,
   "id": "b1ba5a6d-6c32-45e3-97f6-481c49737455",
   "metadata": {},
   "outputs": [],
   "source": [
    "d = np.load(\"/data/kwatchar3/fba/ProbabilisticMPA/split_info.npz\")"
   ]
  },
  {
   "cell_type": "code",
   "execution_count": 11,
   "id": "42f57c63-81ad-43ac-a03c-c23f5db5e661",
   "metadata": {},
   "outputs": [
    {
     "data": {
      "text/plain": [
       "array([['29669', '2013', 'symphonic'],\n",
       "       ['33679', '2013', 'symphonic'],\n",
       "       ['33180', '2013', 'symphonic'],\n",
       "       ...,\n",
       "       ['89452', '2018', 'symphonic'],\n",
       "       ['88096', '2018', 'symphonic'],\n",
       "       ['91915', '2018', 'symphonic']], dtype='<U21')"
      ]
     },
     "execution_count": 11,
     "metadata": {},
     "output_type": "execute_result"
    }
   ],
   "source": [
    "d['train']"
   ]
  },
  {
   "cell_type": "code",
   "execution_count": 12,
   "id": "fa747f9e-c1d8-4529-bda9-6ea0c1017039",
   "metadata": {},
   "outputs": [
    {
     "data": {
      "text/plain": [
       "array([['31947', '2013', 'symphonic'],\n",
       "       ['33200', '2013', 'symphonic'],\n",
       "       ['34475', '2013', 'symphonic'],\n",
       "       ...,\n",
       "       ['87416', '2018', 'symphonic'],\n",
       "       ['89067', '2018', 'symphonic'],\n",
       "       ['91152', '2018', 'symphonic']], dtype='<U21')"
      ]
     },
     "execution_count": 12,
     "metadata": {},
     "output_type": "execute_result"
    }
   ],
   "source": [
    "d['val']"
   ]
  },
  {
   "cell_type": "code",
   "execution_count": 40,
   "id": "8450bc5e-c89a-400b-b565-b0f2a8def0b7",
   "metadata": {},
   "outputs": [],
   "source": [
    "import os\n",
    "import shutil"
   ]
  },
  {
   "cell_type": "code",
   "execution_count": 19,
   "id": "1cdf8b41-ec4f-4811-9d3d-9d68e43545e0",
   "metadata": {},
   "outputs": [],
   "source": [
    "os.makedirs(\"/media/fba/MIG-FBA-PitchTracking/cleaned/pitchtrack3-limit\")"
   ]
  },
  {
   "cell_type": "code",
   "execution_count": 25,
   "id": "784344ff-9191-495c-a6f1-6cec45627597",
   "metadata": {},
   "outputs": [],
   "source": [
    "dst = \"/media/fba/MIG-FBA-PitchTracking/cleaned/pitchtrack3-limit\"\n",
    "src = \"/media/fba/MIG-FBA-PitchTracking/cleaned/pitchtrack3\"\n",
    "flt = \"/media/fba/MIG-FBA-PitchTracking/cleaned/pitchtrack\""
   ]
  },
  {
   "cell_type": "code",
   "execution_count": 34,
   "id": "66c02ef6-e43f-4f22-84fe-92518e76c965",
   "metadata": {},
   "outputs": [
    {
     "data": {
      "text/plain": [
       "['29267_pyin_pitchtrack.txt', '29267_pyin_pitchtrack.csv']"
      ]
     },
     "execution_count": 34,
     "metadata": {},
     "output_type": "execute_result"
    }
   ],
   "source": [
    "os.listdir(f\"{flt}/bystudent/2013/symphonic/29267\")"
   ]
  },
  {
   "cell_type": "code",
   "execution_count": 51,
   "id": "5c24f8f7-0d84-444f-8bdf-03d1acd7e019",
   "metadata": {},
   "outputs": [],
   "source": [
    "for s, y, b in np.concatenate([d['train'], d['val']]):\n",
    "    fn0 = f\"{flt}/bystudent/{y}/{b}/{s}\"\n",
    "    # print(fn0)\n",
    "    if os.path.exists(fn0):\n",
    "        fn = f\"{src}/bystudent/{y}/{b}/{s}\"\n",
    "        # print(os.listdir(fn))\n",
    "        # print(os.path.exists(f\"{fn}/{s}.f0.csv\"))\n",
    "        os.makedirs(f\"{dst}/bystudent/{y}/{b}/{s}\")\n",
    "        fn1 = f\"{fn}/{s}.f0.csv\"\n",
    "        shutil.copyfile(fn1, fn1.replace(\"pitchtrack3\", \"pitchtrack3-limit\"))"
   ]
  },
  {
   "cell_type": "code",
   "execution_count": null,
   "id": "dff22a29-862e-479a-b6fd-33e527d3b809",
   "metadata": {},
   "outputs": [],
   "source": []
  }
 ],
 "metadata": {
  "kernelspec": {
   "display_name": "Python 3 (ipykernel)",
   "language": "python",
   "name": "python3"
  },
  "language_info": {
   "codemirror_mode": {
    "name": "ipython",
    "version": 3
   },
   "file_extension": ".py",
   "mimetype": "text/x-python",
   "name": "python",
   "nbconvert_exporter": "python",
   "pygments_lexer": "ipython3",
   "version": "3.9.15"
  }
 },
 "nbformat": 4,
 "nbformat_minor": 5
}
